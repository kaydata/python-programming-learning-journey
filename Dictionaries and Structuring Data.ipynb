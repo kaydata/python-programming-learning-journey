{
 "cells": [
  {
   "cell_type": "markdown",
   "metadata": {},
   "source": [
    "# Dictionaries and Structuring Data"
   ]
  },
  {
   "cell_type": "markdown",
   "metadata": {},
   "source": [
    "- A dictionary in Python is an unordered collection of items. While other compound data types have only value as an element, a dictionary has a key: value pair.\n",
    "- Like a list, a dictionary is a mutable collection of many values. But unlike indexes for lists, indexes for dictionaries can use many different data types, not just integers. Indexes for dictionaries are called keys, and a key with its associated value is called a key-value pair.\n",
    "- In code, a dictionary is typed with braces, {}.\n",
    "\n"
   ]
  },
  {
   "cell_type": "markdown",
   "metadata": {},
   "source": [
    "## Creating a Dictionary"
   ]
  },
  {
   "cell_type": "markdown",
   "metadata": {},
   "source": [
    "You can create a dictionary by placing items inside curly braces {} separated by commas. An item has a key and a corresponding value expressed as a pair (key: value)."
   ]
  },
  {
   "cell_type": "code",
   "execution_count": 1,
   "metadata": {},
   "outputs": [
    {
     "name": "stdout",
     "output_type": "stream",
     "text": [
      "{'name': 'Ken', 'age': 25, 'city': 'Nairobi'}\n"
     ]
    }
   ],
   "source": [
    "my_dict = {\n",
    "    \"name\": \"Ken\",\n",
    "    \"age\":25,\n",
    "    \"city\":\"Nairobi\"\n",
    "}\n",
    "\n",
    "print(my_dict)"
   ]
  },
  {
   "cell_type": "markdown",
   "metadata": {},
   "source": [
    "## Accessing the Items"
   ]
  },
  {
   "cell_type": "markdown",
   "metadata": {},
   "source": [
    "You can access the items of a dictionary by referring to its key name, inside square brackets."
   ]
  },
  {
   "cell_type": "code",
   "execution_count": 2,
   "metadata": {},
   "outputs": [
    {
     "name": "stdout",
     "output_type": "stream",
     "text": [
      "Ken\n"
     ]
    }
   ],
   "source": [
    "print(my_dict[\"name\"])"
   ]
  },
  {
   "cell_type": "markdown",
   "metadata": {},
   "source": [
    "## Modifying a Dictionary"
   ]
  },
  {
   "cell_type": "markdown",
   "metadata": {},
   "source": [
    "You can change the value of a specific item by referring to its key name.\n",
    "\n"
   ]
  },
  {
   "cell_type": "code",
   "execution_count": 3,
   "metadata": {},
   "outputs": [
    {
     "name": "stdout",
     "output_type": "stream",
     "text": [
      "{'name': 'Ken', 'age': 26, 'city': 'Nairobi'}\n"
     ]
    }
   ],
   "source": [
    "my_dict[\"age\"] = 26\n",
    "print(my_dict) "
   ]
  },
  {
   "cell_type": "markdown",
   "metadata": {},
   "source": [
    "## Dictionary Methods"
   ]
  },
  {
   "cell_type": "code",
   "execution_count": 4,
   "metadata": {},
   "outputs": [
    {
     "name": "stdout",
     "output_type": "stream",
     "text": [
      "dict_keys(['name', 'age', 'city'])\n",
      "dict_values(['Ken', 26, 'Nairobi'])\n",
      "{'name': 'Ken', 'age': 26, 'city': 'Nairobi', 'profession': 'Engineer'}\n",
      "{'name': 'Ken', 'age': 26, 'city': 'Nairobi'}\n"
     ]
    }
   ],
   "source": [
    "# get a list of the keys\n",
    "print(my_dict.keys())  # prints: dict_keys(['name', 'age', 'city'])\n",
    "\n",
    "# get a list of the values\n",
    "print(my_dict.values())  # prints: dict_values(['John', 35, 'New York'])\n",
    "\n",
    "# add a new key-value pair\n",
    "my_dict[\"profession\"] = \"Engineer\"\n",
    "print(my_dict)  # prints: {'name': 'John', 'age': 35, 'city': 'New York', 'profession': 'Engineer'}\n",
    "\n",
    "# remove a key-value pair\n",
    "del my_dict[\"profession\"]\n",
    "print(my_dict)  # prints: {'name': 'John', 'age': 35, 'city': 'New York'}\n"
   ]
  },
  {
   "cell_type": "markdown",
   "metadata": {},
   "source": [
    "## Nested Dictionaries"
   ]
  },
  {
   "cell_type": "markdown",
   "metadata": {},
   "source": [
    "A dictionary can contain dictionaries, this is called nested dictionaries"
   ]
  },
  {
   "cell_type": "code",
   "execution_count": 5,
   "metadata": {},
   "outputs": [
    {
     "name": "stdout",
     "output_type": "stream",
     "text": [
      "{'age': 27, 'city': 'Paris'}\n"
     ]
    }
   ],
   "source": [
    "people = {\n",
    "    \"John\": {\"age\": 30, \"city\": \"New York\"},\n",
    "    \"Sarah\": {\"age\": 27, \"city\": \"Paris\"},\n",
    "    \"Bob\": {\"age\": 22, \"city\": \"London\"}\n",
    "}\n",
    "\n",
    "print(people[\"Sarah\"])  # prints: {'age': 27, 'city': 'Paris'}\n"
   ]
  },
  {
   "cell_type": "markdown",
   "metadata": {},
   "source": [
    "## Dictionary Comprehensions"
   ]
  },
  {
   "cell_type": "markdown",
   "metadata": {},
   "source": [
    "Like list comprehensions, dictionary comprehensions provide a concise way to create dictionaries."
   ]
  },
  {
   "cell_type": "code",
   "execution_count": 8,
   "metadata": {},
   "outputs": [],
   "source": [
    "squares = {x: x*x for x in range(6)}"
   ]
  },
  {
   "cell_type": "code",
   "execution_count": 9,
   "metadata": {},
   "outputs": [
    {
     "name": "stdout",
     "output_type": "stream",
     "text": [
      "{0: 0, 1: 1, 2: 4, 3: 9, 4: 16, 5: 25}\n"
     ]
    }
   ],
   "source": [
    "print(squares)"
   ]
  }
 ],
 "metadata": {
  "kernelspec": {
   "display_name": "base",
   "language": "python",
   "name": "python3"
  },
  "language_info": {
   "codemirror_mode": {
    "name": "ipython",
    "version": 3
   },
   "file_extension": ".py",
   "mimetype": "text/x-python",
   "name": "python",
   "nbconvert_exporter": "python",
   "pygments_lexer": "ipython3",
   "version": "3.10.9"
  },
  "orig_nbformat": 4
 },
 "nbformat": 4,
 "nbformat_minor": 2
}
